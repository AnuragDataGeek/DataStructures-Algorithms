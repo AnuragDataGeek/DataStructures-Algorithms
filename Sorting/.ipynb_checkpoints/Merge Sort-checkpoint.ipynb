{
 "cells": [
  {
   "cell_type": "code",
   "execution_count": 4,
   "metadata": {},
   "outputs": [],
   "source": [
    "def merge_sort(arr):\n",
    "    if len(arr)>1:\n",
    "        mid=int(len(arr)/2)\n",
    "        lefthalf=arr[:mid]\n",
    "        righthalf=arr[mid:]\n",
    "        \n",
    "        merge_sort(lefthalf)\n",
    "        merge_sort(righthalf)\n",
    "        i=j=k=0\n",
    "        \n",
    "        while i<len(lefthalf) and j<len(righthalf):\n",
    "            if lefthalf[i]<righthalf[j]:\n",
    "                arr[k]=lefthalf[i]\n",
    "                i+=1\n",
    "            else:\n",
    "                arr[k]=righthalf[j]\n",
    "                j+=1\n",
    "            k+=1\n",
    "            \n",
    "        while i<len(lefthalf):\n",
    "            arr[k]=lefthalf[i]\n",
    "            i+=1\n",
    "            k+=1\n",
    "            \n",
    "        while j<len(righthalf):\n",
    "            arr[k]=righthalf[j]\n",
    "            j+=1\n",
    "            k+=1\n",
    "            "
   ]
  },
  {
   "cell_type": "code",
   "execution_count": 5,
   "metadata": {},
   "outputs": [
    {
     "data": {
      "text/plain": [
       "[3, 21, 23, 41, 45, 56, 65, 78]"
      ]
     },
     "execution_count": 5,
     "metadata": {},
     "output_type": "execute_result"
    }
   ],
   "source": [
    "arr=[45,65,21,3,78,56,23,41]\n",
    "merge_sort(arr)\n",
    "arr"
   ]
  }
 ],
 "metadata": {
  "kernelspec": {
   "display_name": "Python 3",
   "language": "python",
   "name": "python3"
  },
  "language_info": {
   "codemirror_mode": {
    "name": "ipython",
    "version": 3
   },
   "file_extension": ".py",
   "mimetype": "text/x-python",
   "name": "python",
   "nbconvert_exporter": "python",
   "pygments_lexer": "ipython3",
   "version": "3.7.0"
  }
 },
 "nbformat": 4,
 "nbformat_minor": 2
}
