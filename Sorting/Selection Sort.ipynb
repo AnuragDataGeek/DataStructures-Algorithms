{
 "cells": [
  {
   "cell_type": "code",
   "execution_count": 3,
   "metadata": {},
   "outputs": [],
   "source": [
    "def selection_sort(arr):\n",
    "    for i in range(len(arr)):\n",
    "        min_id=i\n",
    "        for j in range(i+1,len(arr)):\n",
    "            if arr[min_id]>arr[j]:\n",
    "                min_id=j\n",
    "        arr[min_id],arr[i]=arr[i],arr[min_id]"
   ]
  },
  {
   "cell_type": "code",
   "execution_count": 5,
   "metadata": {},
   "outputs": [
    {
     "name": "stdout",
     "output_type": "stream",
     "text": [
      "Sorted array:\n",
      "3\n",
      "15\n",
      "21\n",
      "42\n",
      "45\n",
      "65\n",
      "85\n"
     ]
    }
   ],
   "source": [
    "arr=[85,15,45,65,21,42,3]\n",
    "selection_sort(arr)\n",
    "print(\"Sorted array:\")\n",
    "for i in range(len(arr)):\n",
    "    print(arr[i])"
   ]
  }
 ],
 "metadata": {
  "kernelspec": {
   "display_name": "Python 3",
   "language": "python",
   "name": "python3"
  },
  "language_info": {
   "codemirror_mode": {
    "name": "ipython",
    "version": 3
   },
   "file_extension": ".py",
   "mimetype": "text/x-python",
   "name": "python",
   "nbconvert_exporter": "python",
   "pygments_lexer": "ipython3",
   "version": "3.7.0"
  }
 },
 "nbformat": 4,
 "nbformat_minor": 2
}
