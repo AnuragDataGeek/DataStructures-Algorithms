{
 "cells": [
  {
   "cell_type": "code",
   "execution_count": 4,
   "metadata": {},
   "outputs": [],
   "source": [
    "def cycle_check(node):\n",
    "    marker1=node\n",
    "    marker2=node\n",
    "    \n",
    "    while marker2 !=None and marker2.nextnode != None:\n",
    "        marker1=marker1.nextnode\n",
    "        marker2=marker2.nextnode.nextnode\n",
    "        \n",
    "        if marker1==marker2:\n",
    "            return True\n",
    "        \n",
    "    return False"
   ]
  },
  {
   "cell_type": "code",
   "execution_count": 1,
   "metadata": {},
   "outputs": [],
   "source": [
    "class Node(object):\n",
    "    def __init__(self,value):\n",
    "        self.value=value\n",
    "        self.nextnode=None"
   ]
  },
  {
   "cell_type": "code",
   "execution_count": 5,
   "metadata": {},
   "outputs": [
    {
     "name": "stdout",
     "output_type": "stream",
     "text": [
      "All tests passed\n"
     ]
    }
   ],
   "source": [
    "from nose.tools import assert_equal\n",
    "\n",
    "#Cycle list\n",
    "a=Node(1)\n",
    "b=Node(2)\n",
    "c=Node(3)\n",
    "\n",
    "a.nextnode=b\n",
    "b.nextnode=c\n",
    "c.nextnode=a\n",
    "\n",
    "#Non-cycle list\n",
    "x=Node(1)\n",
    "y=Node(2)\n",
    "z=Node(3)\n",
    "\n",
    "x.nextnode=y\n",
    "y.nextnode=z\n",
    "\n",
    "class TestCycleCheck(object):\n",
    "    def test(self,sol):\n",
    "        assert_equal(sol(a),True)\n",
    "        assert_equal(sol(x),False)\n",
    "        print(\"All tests passed\")\n",
    "        \n",
    "t=TestCycleCheck()\n",
    "t.test(cycle_check)"
   ]
  }
 ],
 "metadata": {
  "kernelspec": {
   "display_name": "Python 3",
   "language": "python",
   "name": "python3"
  },
  "language_info": {
   "codemirror_mode": {
    "name": "ipython",
    "version": 3
   },
   "file_extension": ".py",
   "mimetype": "text/x-python",
   "name": "python",
   "nbconvert_exporter": "python",
   "pygments_lexer": "ipython3",
   "version": "3.7.0"
  }
 },
 "nbformat": 4,
 "nbformat_minor": 2
}
