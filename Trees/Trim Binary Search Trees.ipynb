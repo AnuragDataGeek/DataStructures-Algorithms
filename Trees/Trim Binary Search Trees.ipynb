{
 "cells": [
  {
   "cell_type": "code",
   "execution_count": null,
   "metadata": {},
   "outputs": [],
   "source": [
    "def trimBST(tree,minVal,maxVal):\n",
    "    if not tree:\n",
    "        return\n",
    "    tree.left=trimBST(tree.left,minVal,maxVal)\n",
    "    tree.right=trimBST(tree.right,minVal,maxVal)\n",
    "    \n",
    "    if minVal<=tree.val<=maxVal:\n",
    "        return tree\n",
    "    \n",
    "    if tree.val<minVal:\n",
    "        return tree.right\n",
    "    if tree.val>maxVal:\n",
    "        return tree.left"
   ]
  }
 ],
 "metadata": {
  "kernelspec": {
   "display_name": "Python 3",
   "language": "python",
   "name": "python3"
  },
  "language_info": {
   "codemirror_mode": {
    "name": "ipython",
    "version": 3
   },
   "file_extension": ".py",
   "mimetype": "text/x-python",
   "name": "python",
   "nbconvert_exporter": "python",
   "pygments_lexer": "ipython3",
   "version": "3.7.0"
  }
 },
 "nbformat": 4,
 "nbformat_minor": 2
}
