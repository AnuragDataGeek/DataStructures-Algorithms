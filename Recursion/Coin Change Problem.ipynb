{
 "cells": [
  {
   "cell_type": "code",
   "execution_count": 8,
   "metadata": {},
   "outputs": [],
   "source": [
    "#Computationally intensive and takes longer time\n",
    "def rec_coins(target,coins):\n",
    "    min_coins=target\n",
    "    if target in coins:\n",
    "        return 1\n",
    "    else:\n",
    "        #For every coin value that is less than target\n",
    "        for i in [c for c in coins if c<=target]:\n",
    "            #Add a count coin + Recursive function\n",
    "            num_coins=1+rec_coins(target-i,coins)\n",
    "            \n",
    "            #Reset minimum if the new num_coins less than min_coins\n",
    "            if num_coins<min_coins:\n",
    "                min_coins=num_coins\n",
    "            \n",
    "    return min_coins    \n",
    "        "
   ]
  },
  {
   "cell_type": "code",
   "execution_count": 9,
   "metadata": {},
   "outputs": [
    {
     "data": {
      "text/plain": [
       "2"
      ]
     },
     "execution_count": 9,
     "metadata": {},
     "output_type": "execute_result"
    }
   ],
   "source": [
    "rec_coins(15,[1,5,10])"
   ]
  },
  {
   "cell_type": "code",
   "execution_count": 7,
   "metadata": {},
   "outputs": [
    {
     "data": {
      "text/plain": [
       "6"
      ]
     },
     "execution_count": 7,
     "metadata": {},
     "output_type": "execute_result"
    }
   ],
   "source": [
    "rec_coins(63,[1,5,10,25])    "
   ]
  },
  {
   "cell_type": "code",
   "execution_count": 10,
   "metadata": {},
   "outputs": [],
   "source": [
    "#Dynamic method\n",
    "def rec_coins_dynam(target,coins,known_results):\n",
    "    \n",
    "    #Default output to target\n",
    "    min_coins=target\n",
    "    \n",
    "    #Base Case\n",
    "    if target in coins:\n",
    "        known_results[target]=1\n",
    "        return 1\n",
    "    \n",
    "    #Return a known result if it happens to be greater than 1\n",
    "    elif known_results[target]>0:\n",
    "        return known_results[target]\n",
    "    \n",
    "    else:\n",
    "        \n",
    "        #For every coin value that is less than target\n",
    "        for i in [c for c in coins if c<=target]:\n",
    "            \n",
    "            num_coins=1+rec_coins_dynam(target-i,coins,known_results)\n",
    "            \n",
    "            if num_coins<min_coins:\n",
    "                min_coins=num_coins\n",
    "                \n",
    "                #Reset the known result\n",
    "                known_results[target]=min_coins\n",
    "                \n",
    "    return min_coins"
   ]
  },
  {
   "cell_type": "code",
   "execution_count": 11,
   "metadata": {},
   "outputs": [
    {
     "data": {
      "text/plain": [
       "8"
      ]
     },
     "execution_count": 11,
     "metadata": {},
     "output_type": "execute_result"
    }
   ],
   "source": [
    "target=74\n",
    "coins=[1,5,10,25]\n",
    "known_results=[0]*(target+1)\n",
    "rec_coins_dynam(target,coins,known_results)"
   ]
  }
 ],
 "metadata": {
  "kernelspec": {
   "display_name": "Python 3",
   "language": "python",
   "name": "python3"
  },
  "language_info": {
   "codemirror_mode": {
    "name": "ipython",
    "version": 3
   },
   "file_extension": ".py",
   "mimetype": "text/x-python",
   "name": "python",
   "nbconvert_exporter": "python",
   "pygments_lexer": "ipython3",
   "version": "3.7.0"
  }
 },
 "nbformat": 4,
 "nbformat_minor": 2
}
