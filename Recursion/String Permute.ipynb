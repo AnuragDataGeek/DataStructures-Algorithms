{
 "cells": [
  {
   "cell_type": "code",
   "execution_count": 2,
   "metadata": {},
   "outputs": [],
   "source": [
    "def permute(s):\n",
    "    out=[]\n",
    "    #Base case\n",
    "    if len(s)==1:\n",
    "        out=[s]\n",
    "    else:\n",
    "        for i,let in enumerate(s):\n",
    "            #print(\"i is\",i)\n",
    "            #print(\"letter is\",let)\n",
    "            print(\"upto i:\",s[:i])\n",
    "            print(\"From i+1 :\",s[i+1:])\n",
    "            for perm in permute(s[:i]+s[i+1:]):\n",
    "                print(\"Current letter is:\",let)\n",
    "                print(\"perm is :\",perm)\n",
    "                out+=[let+perm]\n",
    "                \n",
    "    return out"
   ]
  },
  {
   "cell_type": "code",
   "execution_count": 3,
   "metadata": {},
   "outputs": [
    {
     "name": "stdout",
     "output_type": "stream",
     "text": [
      "upto i: \n",
      "From i+1 : bc\n",
      "upto i: \n",
      "From i+1 : c\n",
      "Current letter is: b\n",
      "perm is : c\n",
      "upto i: b\n",
      "From i+1 : \n",
      "Current letter is: c\n",
      "perm is : b\n",
      "Current letter is: a\n",
      "perm is : bc\n",
      "Current letter is: a\n",
      "perm is : cb\n",
      "upto i: a\n",
      "From i+1 : c\n",
      "upto i: \n",
      "From i+1 : c\n",
      "Current letter is: a\n",
      "perm is : c\n",
      "upto i: a\n",
      "From i+1 : \n",
      "Current letter is: c\n",
      "perm is : a\n",
      "Current letter is: b\n",
      "perm is : ac\n",
      "Current letter is: b\n",
      "perm is : ca\n",
      "upto i: ab\n",
      "From i+1 : \n",
      "upto i: \n",
      "From i+1 : b\n",
      "Current letter is: a\n",
      "perm is : b\n",
      "upto i: a\n",
      "From i+1 : \n",
      "Current letter is: b\n",
      "perm is : a\n",
      "Current letter is: c\n",
      "perm is : ab\n",
      "Current letter is: c\n",
      "perm is : ba\n"
     ]
    },
    {
     "data": {
      "text/plain": [
       "['abc', 'acb', 'bac', 'bca', 'cab', 'cba']"
      ]
     },
     "execution_count": 3,
     "metadata": {},
     "output_type": "execute_result"
    }
   ],
   "source": [
    "permute('abc')"
   ]
  }
 ],
 "metadata": {
  "kernelspec": {
   "display_name": "Python 3",
   "language": "python",
   "name": "python3"
  },
  "language_info": {
   "codemirror_mode": {
    "name": "ipython",
    "version": 3
   },
   "file_extension": ".py",
   "mimetype": "text/x-python",
   "name": "python",
   "nbconvert_exporter": "python",
   "pygments_lexer": "ipython3",
   "version": "3.7.0"
  }
 },
 "nbformat": 4,
 "nbformat_minor": 2
}
