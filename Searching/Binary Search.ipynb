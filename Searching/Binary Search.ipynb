{
 "cells": [
  {
   "cell_type": "code",
   "execution_count": 3,
   "metadata": {},
   "outputs": [],
   "source": [
    "#Divide and Conquer method\n",
    "def binary_search(arr,ele):\n",
    "    first=0\n",
    "    last=len(arr)-1\n",
    "    found=False\n",
    "    while first<=last and not found:\n",
    "        mid=int((first+last)/2)\n",
    "        if arr[mid]==ele:\n",
    "            found=True\n",
    "        else:\n",
    "            if ele<arr[mid]:\n",
    "                last=mid-1\n",
    "            else:\n",
    "                first=mid+1\n",
    "                \n",
    "    return found"
   ]
  },
  {
   "cell_type": "code",
   "execution_count": 4,
   "metadata": {},
   "outputs": [
    {
     "data": {
      "text/plain": [
       "False"
      ]
     },
     "execution_count": 4,
     "metadata": {},
     "output_type": "execute_result"
    }
   ],
   "source": [
    "arr=[1,2,3,5,6,8,9,10]\n",
    "binary_search(arr,13)"
   ]
  },
  {
   "cell_type": "code",
   "execution_count": 8,
   "metadata": {},
   "outputs": [],
   "source": [
    "#Using Recursion\n",
    "def rec_binary_search(arr,ele):\n",
    "    if len(arr)==0:\n",
    "        return False\n",
    "    else:\n",
    "        mid=int(len(arr)/2)\n",
    "        if arr[mid]==ele:\n",
    "            return True\n",
    "        else:\n",
    "            if ele<arr[mid]:\n",
    "                return rec_binary_search(arr[:mid],ele)\n",
    "            else:\n",
    "                return rec_binary_search(arr[mid+1:],ele)"
   ]
  },
  {
   "cell_type": "code",
   "execution_count": 9,
   "metadata": {},
   "outputs": [
    {
     "data": {
      "text/plain": [
       "True"
      ]
     },
     "execution_count": 9,
     "metadata": {},
     "output_type": "execute_result"
    }
   ],
   "source": [
    "rec_binary_search(arr,8)"
   ]
  }
 ],
 "metadata": {
  "kernelspec": {
   "display_name": "Python 3",
   "language": "python",
   "name": "python3"
  },
  "language_info": {
   "codemirror_mode": {
    "name": "ipython",
    "version": 3
   },
   "file_extension": ".py",
   "mimetype": "text/x-python",
   "name": "python",
   "nbconvert_exporter": "python",
   "pygments_lexer": "ipython3",
   "version": "3.7.0"
  }
 },
 "nbformat": 4,
 "nbformat_minor": 2
}
