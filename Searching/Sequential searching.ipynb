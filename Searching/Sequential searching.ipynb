{
 "cells": [
  {
   "cell_type": "code",
   "execution_count": 1,
   "metadata": {},
   "outputs": [],
   "source": [
    "def seq_search(arr,ele):\n",
    "    pos=0\n",
    "    found=False\n",
    "    while pos<len(arr) and not found:\n",
    "        if arr[pos]==ele:\n",
    "            found=True\n",
    "        else:\n",
    "            pos+=1\n",
    "        \n",
    "    return found"
   ]
  },
  {
   "cell_type": "code",
   "execution_count": 2,
   "metadata": {},
   "outputs": [
    {
     "data": {
      "text/plain": [
       "False"
      ]
     },
     "execution_count": 2,
     "metadata": {},
     "output_type": "execute_result"
    }
   ],
   "source": [
    "arr=[1,2,3,4,5,6]\n",
    "seq_search(arr,5)\n",
    "seq_search(arr,8)"
   ]
  },
  {
   "cell_type": "code",
   "execution_count": 3,
   "metadata": {},
   "outputs": [],
   "source": [
    "def order_seq_search(arr,ele):\n",
    "    pos=0\n",
    "    found=False\n",
    "    stopped=False\n",
    "    while pos<len(arr) and not found and not stopped:\n",
    "        if arr[pos]==ele:\n",
    "            found=True\n",
    "        else:\n",
    "            if arr[pos]>ele:\n",
    "                stopped=True\n",
    "            else:\n",
    "                pos+=1\n",
    "        \n",
    "    return found"
   ]
  },
  {
   "cell_type": "code",
   "execution_count": 4,
   "metadata": {},
   "outputs": [
    {
     "data": {
      "text/plain": [
       "False"
      ]
     },
     "execution_count": 4,
     "metadata": {},
     "output_type": "execute_result"
    }
   ],
   "source": [
    "arr=[1,2,3,4,5,6,8,9,10]\n",
    "order_seq_search(arr,7)"
   ]
  }
 ],
 "metadata": {
  "kernelspec": {
   "display_name": "Python 3",
   "language": "python",
   "name": "python3"
  },
  "language_info": {
   "codemirror_mode": {
    "name": "ipython",
    "version": 3
   },
   "file_extension": ".py",
   "mimetype": "text/x-python",
   "name": "python",
   "nbconvert_exporter": "python",
   "pygments_lexer": "ipython3",
   "version": "3.7.0"
  }
 },
 "nbformat": 4,
 "nbformat_minor": 2
}
