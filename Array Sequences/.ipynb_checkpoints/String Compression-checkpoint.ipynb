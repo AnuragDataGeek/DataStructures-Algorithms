{
 "cells": [
  {
   "cell_type": "code",
   "execution_count": 21,
   "metadata": {},
   "outputs": [],
   "source": [
    "#To be rectified\n",
    "def compress(s):\n",
    "    s=list(s)\n",
    "    print(s)\n",
    "    new=[]\n",
    "    for i in range(len(s)-1):\n",
    "        cnt=1\n",
    "        if s[i]==s[i-1]:\n",
    "            cnt+=1\n",
    "        else:\n",
    "            new.append(s[i-1]+str(cnt))\n",
    "            #new.append(str(cnt))\n",
    "            cnt=1\n",
    "    #new.append(s[i-1]+str(cnt))\n",
    "    print(new)"
   ]
  },
  {
   "cell_type": "code",
   "execution_count": 22,
   "metadata": {},
   "outputs": [
    {
     "name": "stdout",
     "output_type": "stream",
     "text": [
      "['A', 'A', 'B', 'C', 'C', 'C']\n",
      "['C1', 'A1', 'B1']\n"
     ]
    }
   ],
   "source": [
    "compress('AABCCC')"
   ]
  },
  {
   "cell_type": "code",
   "execution_count": 18,
   "metadata": {},
   "outputs": [
    {
     "data": {
      "text/plain": [
       "'A2B1C3'"
      ]
     },
     "execution_count": 18,
     "metadata": {},
     "output_type": "execute_result"
    }
   ],
   "source": [
    "compress2('AABCCC')"
   ]
  },
  {
   "cell_type": "code",
   "execution_count": 17,
   "metadata": {},
   "outputs": [],
   "source": [
    "def compress2(s):\n",
    "    r=\"\"\n",
    "    l=len(s)\n",
    "    if l==0:\n",
    "        return \"\"\n",
    "    if l==1:\n",
    "        return s+\"1\"\n",
    "    last=s[0]\n",
    "    cnt=1\n",
    "    i=1\n",
    "    while i<l:\n",
    "        if s[i]==s[i-1]:\n",
    "            cnt+=1\n",
    "        else:\n",
    "            r=r+s[i-1]+str(cnt)\n",
    "            cnt=1\n",
    "            \n",
    "        i+=1\n",
    "        \n",
    "    r=r+s[i-1]+str(cnt)\n",
    "    return r    \n",
    "    "
   ]
  }
 ],
 "metadata": {
  "kernelspec": {
   "display_name": "Python 3",
   "language": "python",
   "name": "python3"
  },
  "language_info": {
   "codemirror_mode": {
    "name": "ipython",
    "version": 3
   },
   "file_extension": ".py",
   "mimetype": "text/x-python",
   "name": "python",
   "nbconvert_exporter": "python",
   "pygments_lexer": "ipython3",
   "version": "3.7.0"
  }
 },
 "nbformat": 4,
 "nbformat_minor": 2
}
